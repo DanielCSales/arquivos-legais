{
  "nbformat": 4,
  "nbformat_minor": 0,
  "metadata": {
    "colab": {
      "provenance": [],
      "mount_file_id": "1FLMRpqvHUv8ZDcTv-kPC6BWjWZ8cwbYl",
      "authorship_tag": "ABX9TyNkEWwQU1y4MwaClaqyKl0Y",
      "include_colab_link": true
    },
    "kernelspec": {
      "name": "python3",
      "display_name": "Python 3"
    },
    "language_info": {
      "name": "python"
    }
  },
  "cells": [
    {
      "cell_type": "markdown",
      "metadata": {
        "id": "view-in-github",
        "colab_type": "text"
      },
      "source": [
        "<a href=\"https://colab.research.google.com/github/DanielCSales/arquivos-legais/blob/main/Arquivo1.ipynb\" target=\"_parent\"><img src=\"https://colab.research.google.com/assets/colab-badge.svg\" alt=\"Open In Colab\"/></a>"
      ]
    },
    {
      "cell_type": "code",
      "execution_count": null,
      "metadata": {
        "id": "ox6RvQBBb9Zd"
      },
      "outputs": [],
      "source": []
    },
    {
      "cell_type": "markdown",
      "source": [
        "# teste 1\n",
        "\n",
        "**teste** `teste` teste teste"
      ],
      "metadata": {
        "id": "l-VRkpMNcGX4"
      }
    },
    {
      "cell_type": "markdown",
      "source": [
        "novo teste\n",
        "\n",
        "\n",
        "1.   List item\n",
        "\n",
        "*   List item\n",
        "\n",
        "\n",
        "2.   List item\n",
        "\n"
      ],
      "metadata": {
        "id": "6UMjQzfncZlj"
      }
    },
    {
      "cell_type": "code",
      "source": [
        "2+2"
      ],
      "metadata": {
        "colab": {
          "base_uri": "https://localhost:8080/"
        },
        "id": "KSnP1UqYclmL",
        "outputId": "b55cb468-49b8-41ed-d80d-49e0a764f62b"
      },
      "execution_count": 1,
      "outputs": [
        {
          "output_type": "execute_result",
          "data": {
            "text/plain": [
              "4"
            ]
          },
          "metadata": {},
          "execution_count": 1
        }
      ]
    },
    {
      "cell_type": "markdown",
      "source": [
        "# New Section"
      ],
      "metadata": {
        "id": "IUdcRDiIc2mI"
      }
    }
  ]
}